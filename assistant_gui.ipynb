{
 "cells": [
  {
   "cell_type": "code",
   "execution_count": 2,
   "id": "b3156296",
   "metadata": {},
   "outputs": [
    {
     "name": "stdout",
     "output_type": "stream",
     "text": [
      "Requirement already satisfied: Pillow in c:\\users\\faithy\\anaconda3\\latest-conda\\lib\\site-packages (9.2.0)\n"
     ]
    }
   ],
   "source": [
    "!pip install Pillow"
   ]
  },
  {
   "cell_type": "code",
   "execution_count": 10,
   "id": "816506c2",
   "metadata": {},
   "outputs": [],
   "source": [
    "from PIL import ImageTk ,Image"
   ]
  },
  {
   "cell_type": "code",
   "execution_count": 11,
   "id": "39093831",
   "metadata": {},
   "outputs": [],
   "source": [
    "import speech_recognition as sr\n",
    "import pyttsx3\n",
    "import pyaudio\n",
    "import datetime\n",
    "import pywhatkit\n",
    "import sys\n",
    "import customtkinter"
   ]
  },
  {
   "cell_type": "code",
   "execution_count": 19,
   "id": "3346d4e5",
   "metadata": {},
   "outputs": [
    {
     "ename": "SyntaxError",
     "evalue": "(unicode error) 'unicodeescape' codec can't decode bytes in position 2-3: truncated \\UXXXXXXXX escape (1793516882.py, line 101)",
     "output_type": "error",
     "traceback": [
      "\u001b[1;36m  File \u001b[1;32m\"C:\\Users\\FAITHY\\AppData\\Local\\Temp\\ipykernel_5396\\1793516882.py\"\u001b[1;36m, line \u001b[1;32m101\u001b[0m\n\u001b[1;33m    my_image=ImageTk.PhotoImage(Image.open(\"C:\\Users\\FAITHY\\Pictures\\icon.jpg\"))\u001b[0m\n\u001b[1;37m                                                                              ^\u001b[0m\n\u001b[1;31mSyntaxError\u001b[0m\u001b[1;31m:\u001b[0m (unicode error) 'unicodeescape' codec can't decode bytes in position 2-3: truncated \\UXXXXXXXX escape\n"
     ]
    }
   ],
   "source": [
    "def speak(audio):\n",
    "    lady=pyttsx3.init() \n",
    "    voices=lady.getProperty('voices')\n",
    "    lady.setProperty('voice',voices[1].id)\n",
    "    lady.say(audio)\n",
    "    lady.runAndWait()\n",
    "    print(audio)\n",
    "    \n",
    "def takeCommand():\n",
    "    r = sr.Recognizer()\n",
    "    with sr.Microphone() as source:\n",
    "        print(\"I am listening,please speak...\")\n",
    "        r.adjust_for_ambient_noise(source,duration=0.7)\n",
    "        r.pause_threshold= 0.7\n",
    "        audio= r.listen(source)\n",
    "    try:\n",
    "        print(\"Recognizing...\") \n",
    "        command=r.recognize_google(audio,language='en-in') \n",
    "        print(\"user:\" ,command)          \n",
    "    except Exception as e:\n",
    "        print(e)\n",
    "        speak(\"sorry,i did not get that...\")\n",
    "        \n",
    "        \n",
    "        return \"None\"\n",
    "    return command\n",
    "\n",
    "\n",
    "def username():\n",
    "    speak(\"what should i call you?\")\n",
    "    name=takeCommand()\n",
    "    speak(\"Hello\" + name)\n",
    "    \n",
    "    \n",
    "       \n",
    "                                       \n",
    "                    \n",
    "def greet():\n",
    "    hour=datetime.datetime.now().hour\n",
    "    if hour >= 6 and hour <12:\n",
    "        speak(\"Good Morning to you\") \n",
    "    elif hour  >= 12 and hour < 18:\n",
    "        speak(\"Good day to you\") \n",
    "    elif hour >= 18 and hour < 24:\n",
    "        speak(\"Good evening,hope you had a good day.\")\n",
    "    speak(\"what would you like to shop for today?\")\n",
    "\n",
    "    \n",
    "    \n",
    "def run_lady():\n",
    "    username()\n",
    "    greet()\n",
    "    \n",
    "    \n",
    "    \n",
    "    while(True):\n",
    "        query = takeCommand().lower()\n",
    "        if \"shop for\" in query:\n",
    "            speak('Loading result')  \n",
    "            result_one=pywhatkit.search(query)\n",
    "        \n",
    "        elif \"hey Lady\" or \"lady\" in query:\n",
    "            greet()\n",
    "            \n",
    "        elif \"name\" in query:\n",
    "            username()\n",
    "              \n",
    "       \n",
    "        elif \"get\"  in query:\n",
    "            speak('Loading result')\n",
    "            result_two=pywhatkit.search(query)\n",
    "            \n",
    "            \n",
    "        elif \"brands\"  in query:\n",
    "            speak('Loading result')  \n",
    "            result_three=pywhatkit.search(query)\n",
    "              \n",
    "        \n",
    "          \n",
    "        elif \"buy\" in query:\n",
    "            speak('Loading result') \n",
    "            result_four=pywhatkit.search(query)\n",
    "            \n",
    "            \n",
    "        elif \"prices\"  in query:\n",
    "            speak('Loading result') \n",
    "            result_five=pywhatkit.search(query)\n",
    "             \n",
    "            \n",
    "        elif \"stores\"  in query:\n",
    "            speak('Loading result ')\n",
    "            result_six=pywhatkit.search(query)\n",
    "            \n",
    "\n",
    "        elif \"done\"  or \"close\" in query:\n",
    "            sys.exit()\n",
    "            \n",
    "root=customtkinter.CTk()\n",
    "root.title(\"Lady\")\n",
    "root.geometry(\"500*350\")\n",
    "my_image=ImageTk.PhotoImage(Image.open(\"icon.jpg\"))\n",
    "label=Label(image=my_image)\n",
    "customtkinter.set_apperance_mode(\"System\")\n",
    "customtkinter.set_default_color_theme(\"dark_blue\")\n",
    "root.mainloop()\n",
    "            \n",
    "    \n",
    "            \n",
    "\n",
    "            \n",
    "if __name__=='__main__':\n",
    "    run_lady()\n",
    "   \n",
    "\n",
    "    "
   ]
  },
  {
   "cell_type": "code",
   "execution_count": null,
   "id": "e4eb7836",
   "metadata": {},
   "outputs": [],
   "source": []
  },
  {
   "cell_type": "code",
   "execution_count": null,
   "id": "2699eb88",
   "metadata": {},
   "outputs": [],
   "source": []
  },
  {
   "cell_type": "code",
   "execution_count": null,
   "id": "b072bb6b",
   "metadata": {},
   "outputs": [],
   "source": []
  },
  {
   "cell_type": "code",
   "execution_count": null,
   "id": "457e455c",
   "metadata": {},
   "outputs": [],
   "source": []
  }
 ],
 "metadata": {
  "kernelspec": {
   "display_name": "Python 3 (ipykernel)",
   "language": "python",
   "name": "python3"
  },
  "language_info": {
   "codemirror_mode": {
    "name": "ipython",
    "version": 3
   },
   "file_extension": ".py",
   "mimetype": "text/x-python",
   "name": "python",
   "nbconvert_exporter": "python",
   "pygments_lexer": "ipython3",
   "version": "3.9.13"
  },
  "vscode": {
   "interpreter": {
    "hash": "6ed375e0593b38f62d0f79878f9f75c34fd4ddbcb778f692d803c55227b6cf41"
   }
  }
 },
 "nbformat": 4,
 "nbformat_minor": 5
}
